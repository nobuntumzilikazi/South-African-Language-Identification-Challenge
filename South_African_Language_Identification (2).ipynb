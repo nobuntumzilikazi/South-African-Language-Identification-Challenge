{
  "cells": [
    {
      "cell_type": "markdown",
      "id": "c2150e12",
      "metadata": {
        "id": "c2150e12"
      },
      "source": [
        "# South African Language Identification Hack Challenge"
      ]
    },
    {
      "cell_type": "markdown",
      "id": "80ab12c1",
      "metadata": {
        "id": "80ab12c1"
      },
      "source": [
        "# Import Libriries"
      ]
    },
    {
      "cell_type": "code",
      "execution_count": 114,
      "id": "9c12cbb5",
      "metadata": {
        "id": "9c12cbb5"
      },
      "outputs": [],
      "source": [
        "import numpy as np\n",
        "import pandas as pd\n",
        "import nltk\n",
        "from nltk import TreebankWordTokenizer, SnowballStemmer, PorterStemmer\n",
        "from nltk.stem import WordNetLemmatizer\n",
        "from nltk.corpus import stopwords\n",
        "import string\n",
        "import re\n",
        "import urllib\n",
        "from sklearn.feature_extraction.text import CountVectorizer\n",
        "from sklearn.preprocessing import LabelEncoder\n",
        "from sklearn.model_selection import train_test_split\n",
        "from sklearn.naive_bayes import MultinomialNB\n",
        "from sklearn.metrics import accuracy_score, confusion_matrix, classification_report\n",
        "from sklearn.linear_model import LinearRegression\n",
        "\n",
        "\n"
      ]
    },
    {
      "cell_type": "code",
      "source": [
        "from google.colab import drive\n",
        "drive.mount('/content/drive')"
      ],
      "metadata": {
        "colab": {
          "base_uri": "https://localhost:8080/"
        },
        "id": "3CzzVdbApR9X",
        "outputId": "c3dc5b8b-ad2c-4725-fdf1-9d163d5f3787"
      },
      "id": "3CzzVdbApR9X",
      "execution_count": 115,
      "outputs": [
        {
          "output_type": "stream",
          "name": "stdout",
          "text": [
            "Drive already mounted at /content/drive; to attempt to forcibly remount, call drive.mount(\"/content/drive\", force_remount=True).\n"
          ]
        }
      ]
    },
    {
      "cell_type": "markdown",
      "source": [
        "# Load Data"
      ],
      "metadata": {
        "id": "u__XfJ9lgF92"
      },
      "id": "u__XfJ9lgF92"
    },
    {
      "cell_type": "code",
      "execution_count": 116,
      "id": "e63b70b7",
      "metadata": {
        "id": "e63b70b7"
      },
      "outputs": [],
      "source": [
        "df_train = pd.read_csv('/content/train_set.csv')"
      ]
    },
    {
      "cell_type": "code",
      "execution_count": 117,
      "id": "4bcb44d5",
      "metadata": {
        "id": "4bcb44d5"
      },
      "outputs": [],
      "source": [
        "df_test = pd.read_csv('/content/test_set.csv')"
      ]
    },
    {
      "cell_type": "code",
      "execution_count": 118,
      "id": "4b79f207",
      "metadata": {
        "colab": {
          "base_uri": "https://localhost:8080/",
          "height": 206
        },
        "id": "4b79f207",
        "outputId": "7480cdba-0e7b-47c0-99b2-3ef9cb6cdc18"
      },
      "outputs": [
        {
          "output_type": "execute_result",
          "data": {
            "text/plain": [
              "  lang_id                                               text\n",
              "0     xho  umgaqo-siseko wenza amalungiselelo kumaziko ax...\n",
              "1     xho  i-dha iya kuba nobulumko bokubeka umsebenzi na...\n",
              "2     eng  the province of kwazulu-natal department of tr...\n",
              "3     nso  o netefatša gore o ba file dilo ka moka tše le...\n",
              "4     ven  khomishini ya ndinganyiso ya mbeu yo ewa maana..."
            ],
            "text/html": [
              "\n",
              "  <div id=\"df-be17c3b9-c1d0-4651-85bb-3d308d970dea\">\n",
              "    <div class=\"colab-df-container\">\n",
              "      <div>\n",
              "<style scoped>\n",
              "    .dataframe tbody tr th:only-of-type {\n",
              "        vertical-align: middle;\n",
              "    }\n",
              "\n",
              "    .dataframe tbody tr th {\n",
              "        vertical-align: top;\n",
              "    }\n",
              "\n",
              "    .dataframe thead th {\n",
              "        text-align: right;\n",
              "    }\n",
              "</style>\n",
              "<table border=\"1\" class=\"dataframe\">\n",
              "  <thead>\n",
              "    <tr style=\"text-align: right;\">\n",
              "      <th></th>\n",
              "      <th>lang_id</th>\n",
              "      <th>text</th>\n",
              "    </tr>\n",
              "  </thead>\n",
              "  <tbody>\n",
              "    <tr>\n",
              "      <th>0</th>\n",
              "      <td>xho</td>\n",
              "      <td>umgaqo-siseko wenza amalungiselelo kumaziko ax...</td>\n",
              "    </tr>\n",
              "    <tr>\n",
              "      <th>1</th>\n",
              "      <td>xho</td>\n",
              "      <td>i-dha iya kuba nobulumko bokubeka umsebenzi na...</td>\n",
              "    </tr>\n",
              "    <tr>\n",
              "      <th>2</th>\n",
              "      <td>eng</td>\n",
              "      <td>the province of kwazulu-natal department of tr...</td>\n",
              "    </tr>\n",
              "    <tr>\n",
              "      <th>3</th>\n",
              "      <td>nso</td>\n",
              "      <td>o netefatša gore o ba file dilo ka moka tše le...</td>\n",
              "    </tr>\n",
              "    <tr>\n",
              "      <th>4</th>\n",
              "      <td>ven</td>\n",
              "      <td>khomishini ya ndinganyiso ya mbeu yo ewa maana...</td>\n",
              "    </tr>\n",
              "  </tbody>\n",
              "</table>\n",
              "</div>\n",
              "      <button class=\"colab-df-convert\" onclick=\"convertToInteractive('df-be17c3b9-c1d0-4651-85bb-3d308d970dea')\"\n",
              "              title=\"Convert this dataframe to an interactive table.\"\n",
              "              style=\"display:none;\">\n",
              "        \n",
              "  <svg xmlns=\"http://www.w3.org/2000/svg\" height=\"24px\"viewBox=\"0 0 24 24\"\n",
              "       width=\"24px\">\n",
              "    <path d=\"M0 0h24v24H0V0z\" fill=\"none\"/>\n",
              "    <path d=\"M18.56 5.44l.94 2.06.94-2.06 2.06-.94-2.06-.94-.94-2.06-.94 2.06-2.06.94zm-11 1L8.5 8.5l.94-2.06 2.06-.94-2.06-.94L8.5 2.5l-.94 2.06-2.06.94zm10 10l.94 2.06.94-2.06 2.06-.94-2.06-.94-.94-2.06-.94 2.06-2.06.94z\"/><path d=\"M17.41 7.96l-1.37-1.37c-.4-.4-.92-.59-1.43-.59-.52 0-1.04.2-1.43.59L10.3 9.45l-7.72 7.72c-.78.78-.78 2.05 0 2.83L4 21.41c.39.39.9.59 1.41.59.51 0 1.02-.2 1.41-.59l7.78-7.78 2.81-2.81c.8-.78.8-2.07 0-2.86zM5.41 20L4 18.59l7.72-7.72 1.47 1.35L5.41 20z\"/>\n",
              "  </svg>\n",
              "      </button>\n",
              "      \n",
              "  <style>\n",
              "    .colab-df-container {\n",
              "      display:flex;\n",
              "      flex-wrap:wrap;\n",
              "      gap: 12px;\n",
              "    }\n",
              "\n",
              "    .colab-df-convert {\n",
              "      background-color: #E8F0FE;\n",
              "      border: none;\n",
              "      border-radius: 50%;\n",
              "      cursor: pointer;\n",
              "      display: none;\n",
              "      fill: #1967D2;\n",
              "      height: 32px;\n",
              "      padding: 0 0 0 0;\n",
              "      width: 32px;\n",
              "    }\n",
              "\n",
              "    .colab-df-convert:hover {\n",
              "      background-color: #E2EBFA;\n",
              "      box-shadow: 0px 1px 2px rgba(60, 64, 67, 0.3), 0px 1px 3px 1px rgba(60, 64, 67, 0.15);\n",
              "      fill: #174EA6;\n",
              "    }\n",
              "\n",
              "    [theme=dark] .colab-df-convert {\n",
              "      background-color: #3B4455;\n",
              "      fill: #D2E3FC;\n",
              "    }\n",
              "\n",
              "    [theme=dark] .colab-df-convert:hover {\n",
              "      background-color: #434B5C;\n",
              "      box-shadow: 0px 1px 3px 1px rgba(0, 0, 0, 0.15);\n",
              "      filter: drop-shadow(0px 1px 2px rgba(0, 0, 0, 0.3));\n",
              "      fill: #FFFFFF;\n",
              "    }\n",
              "  </style>\n",
              "\n",
              "      <script>\n",
              "        const buttonEl =\n",
              "          document.querySelector('#df-be17c3b9-c1d0-4651-85bb-3d308d970dea button.colab-df-convert');\n",
              "        buttonEl.style.display =\n",
              "          google.colab.kernel.accessAllowed ? 'block' : 'none';\n",
              "\n",
              "        async function convertToInteractive(key) {\n",
              "          const element = document.querySelector('#df-be17c3b9-c1d0-4651-85bb-3d308d970dea');\n",
              "          const dataTable =\n",
              "            await google.colab.kernel.invokeFunction('convertToInteractive',\n",
              "                                                     [key], {});\n",
              "          if (!dataTable) return;\n",
              "\n",
              "          const docLinkHtml = 'Like what you see? Visit the ' +\n",
              "            '<a target=\"_blank\" href=https://colab.research.google.com/notebooks/data_table.ipynb>data table notebook</a>'\n",
              "            + ' to learn more about interactive tables.';\n",
              "          element.innerHTML = '';\n",
              "          dataTable['output_type'] = 'display_data';\n",
              "          await google.colab.output.renderOutput(dataTable, element);\n",
              "          const docLink = document.createElement('div');\n",
              "          docLink.innerHTML = docLinkHtml;\n",
              "          element.appendChild(docLink);\n",
              "        }\n",
              "      </script>\n",
              "    </div>\n",
              "  </div>\n",
              "  "
            ]
          },
          "metadata": {},
          "execution_count": 118
        }
      ],
      "source": [
        "df_train.head()"
      ]
    },
    {
      "cell_type": "code",
      "execution_count": 119,
      "id": "83a91b59",
      "metadata": {
        "colab": {
          "base_uri": "https://localhost:8080/",
          "height": 206
        },
        "id": "83a91b59",
        "outputId": "f7a011db-33ee-45c9-df25-603623583544"
      },
      "outputs": [
        {
          "output_type": "execute_result",
          "data": {
            "text/plain": [
              "   index                                               text\n",
              "0      1  Mmasepala, fa maemo a a kgethegileng a letlele...\n",
              "1      2  Uzakwaziswa ngokufaneleko nakungafuneka eminye...\n",
              "2      3         Tshivhumbeo tshi fana na ngano dza vhathu.\n",
              "3      4  Kube inja nelikati betingevakala kutsi titsini...\n",
              "4      5                      Winste op buitelandse valuta."
            ],
            "text/html": [
              "\n",
              "  <div id=\"df-d292db36-4023-48ae-ba73-8e8a933ff039\">\n",
              "    <div class=\"colab-df-container\">\n",
              "      <div>\n",
              "<style scoped>\n",
              "    .dataframe tbody tr th:only-of-type {\n",
              "        vertical-align: middle;\n",
              "    }\n",
              "\n",
              "    .dataframe tbody tr th {\n",
              "        vertical-align: top;\n",
              "    }\n",
              "\n",
              "    .dataframe thead th {\n",
              "        text-align: right;\n",
              "    }\n",
              "</style>\n",
              "<table border=\"1\" class=\"dataframe\">\n",
              "  <thead>\n",
              "    <tr style=\"text-align: right;\">\n",
              "      <th></th>\n",
              "      <th>index</th>\n",
              "      <th>text</th>\n",
              "    </tr>\n",
              "  </thead>\n",
              "  <tbody>\n",
              "    <tr>\n",
              "      <th>0</th>\n",
              "      <td>1</td>\n",
              "      <td>Mmasepala, fa maemo a a kgethegileng a letlele...</td>\n",
              "    </tr>\n",
              "    <tr>\n",
              "      <th>1</th>\n",
              "      <td>2</td>\n",
              "      <td>Uzakwaziswa ngokufaneleko nakungafuneka eminye...</td>\n",
              "    </tr>\n",
              "    <tr>\n",
              "      <th>2</th>\n",
              "      <td>3</td>\n",
              "      <td>Tshivhumbeo tshi fana na ngano dza vhathu.</td>\n",
              "    </tr>\n",
              "    <tr>\n",
              "      <th>3</th>\n",
              "      <td>4</td>\n",
              "      <td>Kube inja nelikati betingevakala kutsi titsini...</td>\n",
              "    </tr>\n",
              "    <tr>\n",
              "      <th>4</th>\n",
              "      <td>5</td>\n",
              "      <td>Winste op buitelandse valuta.</td>\n",
              "    </tr>\n",
              "  </tbody>\n",
              "</table>\n",
              "</div>\n",
              "      <button class=\"colab-df-convert\" onclick=\"convertToInteractive('df-d292db36-4023-48ae-ba73-8e8a933ff039')\"\n",
              "              title=\"Convert this dataframe to an interactive table.\"\n",
              "              style=\"display:none;\">\n",
              "        \n",
              "  <svg xmlns=\"http://www.w3.org/2000/svg\" height=\"24px\"viewBox=\"0 0 24 24\"\n",
              "       width=\"24px\">\n",
              "    <path d=\"M0 0h24v24H0V0z\" fill=\"none\"/>\n",
              "    <path d=\"M18.56 5.44l.94 2.06.94-2.06 2.06-.94-2.06-.94-.94-2.06-.94 2.06-2.06.94zm-11 1L8.5 8.5l.94-2.06 2.06-.94-2.06-.94L8.5 2.5l-.94 2.06-2.06.94zm10 10l.94 2.06.94-2.06 2.06-.94-2.06-.94-.94-2.06-.94 2.06-2.06.94z\"/><path d=\"M17.41 7.96l-1.37-1.37c-.4-.4-.92-.59-1.43-.59-.52 0-1.04.2-1.43.59L10.3 9.45l-7.72 7.72c-.78.78-.78 2.05 0 2.83L4 21.41c.39.39.9.59 1.41.59.51 0 1.02-.2 1.41-.59l7.78-7.78 2.81-2.81c.8-.78.8-2.07 0-2.86zM5.41 20L4 18.59l7.72-7.72 1.47 1.35L5.41 20z\"/>\n",
              "  </svg>\n",
              "      </button>\n",
              "      \n",
              "  <style>\n",
              "    .colab-df-container {\n",
              "      display:flex;\n",
              "      flex-wrap:wrap;\n",
              "      gap: 12px;\n",
              "    }\n",
              "\n",
              "    .colab-df-convert {\n",
              "      background-color: #E8F0FE;\n",
              "      border: none;\n",
              "      border-radius: 50%;\n",
              "      cursor: pointer;\n",
              "      display: none;\n",
              "      fill: #1967D2;\n",
              "      height: 32px;\n",
              "      padding: 0 0 0 0;\n",
              "      width: 32px;\n",
              "    }\n",
              "\n",
              "    .colab-df-convert:hover {\n",
              "      background-color: #E2EBFA;\n",
              "      box-shadow: 0px 1px 2px rgba(60, 64, 67, 0.3), 0px 1px 3px 1px rgba(60, 64, 67, 0.15);\n",
              "      fill: #174EA6;\n",
              "    }\n",
              "\n",
              "    [theme=dark] .colab-df-convert {\n",
              "      background-color: #3B4455;\n",
              "      fill: #D2E3FC;\n",
              "    }\n",
              "\n",
              "    [theme=dark] .colab-df-convert:hover {\n",
              "      background-color: #434B5C;\n",
              "      box-shadow: 0px 1px 3px 1px rgba(0, 0, 0, 0.15);\n",
              "      filter: drop-shadow(0px 1px 2px rgba(0, 0, 0, 0.3));\n",
              "      fill: #FFFFFF;\n",
              "    }\n",
              "  </style>\n",
              "\n",
              "      <script>\n",
              "        const buttonEl =\n",
              "          document.querySelector('#df-d292db36-4023-48ae-ba73-8e8a933ff039 button.colab-df-convert');\n",
              "        buttonEl.style.display =\n",
              "          google.colab.kernel.accessAllowed ? 'block' : 'none';\n",
              "\n",
              "        async function convertToInteractive(key) {\n",
              "          const element = document.querySelector('#df-d292db36-4023-48ae-ba73-8e8a933ff039');\n",
              "          const dataTable =\n",
              "            await google.colab.kernel.invokeFunction('convertToInteractive',\n",
              "                                                     [key], {});\n",
              "          if (!dataTable) return;\n",
              "\n",
              "          const docLinkHtml = 'Like what you see? Visit the ' +\n",
              "            '<a target=\"_blank\" href=https://colab.research.google.com/notebooks/data_table.ipynb>data table notebook</a>'\n",
              "            + ' to learn more about interactive tables.';\n",
              "          element.innerHTML = '';\n",
              "          dataTable['output_type'] = 'display_data';\n",
              "          await google.colab.output.renderOutput(dataTable, element);\n",
              "          const docLink = document.createElement('div');\n",
              "          docLink.innerHTML = docLinkHtml;\n",
              "          element.appendChild(docLink);\n",
              "        }\n",
              "      </script>\n",
              "    </div>\n",
              "  </div>\n",
              "  "
            ]
          },
          "metadata": {},
          "execution_count": 119
        }
      ],
      "source": [
        "df_test.head()"
      ]
    },
    {
      "cell_type": "markdown",
      "source": [
        "# Clean the Data"
      ],
      "metadata": {
        "id": "eVRRUYHggycv"
      },
      "id": "eVRRUYHggycv"
    },
    {
      "cell_type": "code",
      "source": [
        "import nltk\n",
        "nltk.download('stopwords')"
      ],
      "metadata": {
        "colab": {
          "base_uri": "https://localhost:8080/"
        },
        "id": "kSE3Au63qgtX",
        "outputId": "99f28b5c-864d-4dd7-a6cf-cd9cd2e7cb06"
      },
      "id": "kSE3Au63qgtX",
      "execution_count": 9,
      "outputs": [
        {
          "output_type": "stream",
          "name": "stderr",
          "text": [
            "[nltk_data] Downloading package stopwords to /root/nltk_data...\n",
            "[nltk_data]   Unzipping corpora/stopwords.zip.\n"
          ]
        },
        {
          "output_type": "execute_result",
          "data": {
            "text/plain": [
              "True"
            ]
          },
          "metadata": {},
          "execution_count": 9
        }
      ]
    },
    {
      "cell_type": "code",
      "execution_count": 10,
      "id": "15a2ddf9",
      "metadata": {
        "id": "15a2ddf9"
      },
      "outputs": [],
      "source": [
        "ps = PorterStemmer()\n",
        "corpus = []\n",
        "\n",
        "for i in range(len(df_train['text'])):\n",
        "    text = re.sub(\"^[a-zA-Z]\",' ', df_train['text'][i])\n",
        "    text = text.lower()\n",
        "    text = text.split()\n",
        "    text = [ps.stem(word) for word in text if set(stopwords.words())]\n",
        "    text = ' '.join(text)\n",
        "    corpus.append(text)\n"
      ]
    },
    {
      "cell_type": "markdown",
      "source": [
        "# Convert text into Vector"
      ],
      "metadata": {
        "id": "h3FF2k-ag7LU"
      },
      "id": "h3FF2k-ag7LU"
    },
    {
      "cell_type": "code",
      "execution_count": 12,
      "id": "b677b8b0",
      "metadata": {
        "id": "b677b8b0"
      },
      "outputs": [],
      "source": [
        "cv = CountVectorizer(max_features=10000)\n",
        "X = cv.fit_transform(corpus).toarray()"
      ]
    },
    {
      "cell_type": "code",
      "execution_count": 13,
      "id": "7fbda104",
      "metadata": {
        "colab": {
          "base_uri": "https://localhost:8080/"
        },
        "id": "7fbda104",
        "outputId": "93e789b8-a95a-466a-dd0f-581a7811c139"
      },
      "outputs": [
        {
          "output_type": "execute_result",
          "data": {
            "text/plain": [
              "(4153, 10000)"
            ]
          },
          "metadata": {},
          "execution_count": 13
        }
      ],
      "source": [
        "X.shape"
      ]
    },
    {
      "cell_type": "markdown",
      "source": [
        "# LabelEncoding - Convert the Language names into labels"
      ],
      "metadata": {
        "id": "kH24eMmNhH2u"
      },
      "id": "kH24eMmNhH2u"
    },
    {
      "cell_type": "code",
      "execution_count": 14,
      "id": "4d7562ec",
      "metadata": {
        "id": "4d7562ec"
      },
      "outputs": [],
      "source": [
        "label = LabelEncoder()\n",
        "y = label.fit_transform(df_train['lang_id'])\n"
      ]
    },
    {
      "cell_type": "code",
      "execution_count": 17,
      "id": "6443bb49",
      "metadata": {
        "colab": {
          "base_uri": "https://localhost:8080/"
        },
        "id": "6443bb49",
        "outputId": "b6372553-0d19-4898-ceb0-f406d5970dde"
      },
      "outputs": [
        {
          "output_type": "execute_result",
          "data": {
            "text/plain": [
              "array([9, 9, 1, ..., 7, 2, 6])"
            ]
          },
          "metadata": {},
          "execution_count": 17
        }
      ],
      "source": [
        "y"
      ]
    },
    {
      "cell_type": "code",
      "execution_count": 18,
      "id": "108e86f9",
      "metadata": {
        "colab": {
          "base_uri": "https://localhost:8080/"
        },
        "id": "108e86f9",
        "outputId": "cc778155-5dd3-4380-e7a2-878e5cf21187"
      },
      "outputs": [
        {
          "output_type": "execute_result",
          "data": {
            "text/plain": [
              "4153"
            ]
          },
          "metadata": {},
          "execution_count": 18
        }
      ],
      "source": [
        "len(y)"
      ]
    },
    {
      "cell_type": "code",
      "execution_count": 19,
      "id": "a717d45e",
      "metadata": {
        "colab": {
          "base_uri": "https://localhost:8080/"
        },
        "id": "a717d45e",
        "outputId": "3e42f344-1097-4613-93bd-85d021d3ff97"
      },
      "outputs": [
        {
          "output_type": "execute_result",
          "data": {
            "text/plain": [
              "array(['afr', 'eng', 'nbl', 'nso', 'sot', 'ssw', 'tsn', 'tso', 'ven',\n",
              "       'xho', 'zul'], dtype=object)"
            ]
          },
          "metadata": {},
          "execution_count": 19
        }
      ],
      "source": [
        "label.classes_"
      ]
    },
    {
      "cell_type": "code",
      "execution_count": 20,
      "id": "2576f36d",
      "metadata": {
        "id": "2576f36d"
      },
      "outputs": [],
      "source": [
        "df_train1 = pd.DataFrame(np.c_[corpus,y],columns=['Text1','lang_codes'])"
      ]
    },
    {
      "cell_type": "code",
      "execution_count": 22,
      "id": "d3b4f69f",
      "metadata": {
        "colab": {
          "base_uri": "https://localhost:8080/",
          "height": 206
        },
        "id": "d3b4f69f",
        "outputId": "97020012-c630-45af-87dc-1ffe1a4f6f7a"
      },
      "outputs": [
        {
          "output_type": "execute_result",
          "data": {
            "text/plain": [
              "                                                  Text1 lang_codes\n",
              "4148  kuhlahlutjwa kwetheknoloji yokutjhugulula okwe...          2\n",
              "4149  am assum that the focu of thi confer is on gro...          1\n",
              "4150  oloby a nga swi kota ku loko a rhumisa hi ku n...          7\n",
              "4151  kutjheja nokwenza iimphakamiso ngokubika okune...          2\n",
              "4152                           hoto mohna jane mcpherso          6"
            ],
            "text/html": [
              "\n",
              "  <div id=\"df-b6050058-7058-4f08-9ac8-dd2b725760e8\">\n",
              "    <div class=\"colab-df-container\">\n",
              "      <div>\n",
              "<style scoped>\n",
              "    .dataframe tbody tr th:only-of-type {\n",
              "        vertical-align: middle;\n",
              "    }\n",
              "\n",
              "    .dataframe tbody tr th {\n",
              "        vertical-align: top;\n",
              "    }\n",
              "\n",
              "    .dataframe thead th {\n",
              "        text-align: right;\n",
              "    }\n",
              "</style>\n",
              "<table border=\"1\" class=\"dataframe\">\n",
              "  <thead>\n",
              "    <tr style=\"text-align: right;\">\n",
              "      <th></th>\n",
              "      <th>Text1</th>\n",
              "      <th>lang_codes</th>\n",
              "    </tr>\n",
              "  </thead>\n",
              "  <tbody>\n",
              "    <tr>\n",
              "      <th>4148</th>\n",
              "      <td>kuhlahlutjwa kwetheknoloji yokutjhugulula okwe...</td>\n",
              "      <td>2</td>\n",
              "    </tr>\n",
              "    <tr>\n",
              "      <th>4149</th>\n",
              "      <td>am assum that the focu of thi confer is on gro...</td>\n",
              "      <td>1</td>\n",
              "    </tr>\n",
              "    <tr>\n",
              "      <th>4150</th>\n",
              "      <td>oloby a nga swi kota ku loko a rhumisa hi ku n...</td>\n",
              "      <td>7</td>\n",
              "    </tr>\n",
              "    <tr>\n",
              "      <th>4151</th>\n",
              "      <td>kutjheja nokwenza iimphakamiso ngokubika okune...</td>\n",
              "      <td>2</td>\n",
              "    </tr>\n",
              "    <tr>\n",
              "      <th>4152</th>\n",
              "      <td>hoto mohna jane mcpherso</td>\n",
              "      <td>6</td>\n",
              "    </tr>\n",
              "  </tbody>\n",
              "</table>\n",
              "</div>\n",
              "      <button class=\"colab-df-convert\" onclick=\"convertToInteractive('df-b6050058-7058-4f08-9ac8-dd2b725760e8')\"\n",
              "              title=\"Convert this dataframe to an interactive table.\"\n",
              "              style=\"display:none;\">\n",
              "        \n",
              "  <svg xmlns=\"http://www.w3.org/2000/svg\" height=\"24px\"viewBox=\"0 0 24 24\"\n",
              "       width=\"24px\">\n",
              "    <path d=\"M0 0h24v24H0V0z\" fill=\"none\"/>\n",
              "    <path d=\"M18.56 5.44l.94 2.06.94-2.06 2.06-.94-2.06-.94-.94-2.06-.94 2.06-2.06.94zm-11 1L8.5 8.5l.94-2.06 2.06-.94-2.06-.94L8.5 2.5l-.94 2.06-2.06.94zm10 10l.94 2.06.94-2.06 2.06-.94-2.06-.94-.94-2.06-.94 2.06-2.06.94z\"/><path d=\"M17.41 7.96l-1.37-1.37c-.4-.4-.92-.59-1.43-.59-.52 0-1.04.2-1.43.59L10.3 9.45l-7.72 7.72c-.78.78-.78 2.05 0 2.83L4 21.41c.39.39.9.59 1.41.59.51 0 1.02-.2 1.41-.59l7.78-7.78 2.81-2.81c.8-.78.8-2.07 0-2.86zM5.41 20L4 18.59l7.72-7.72 1.47 1.35L5.41 20z\"/>\n",
              "  </svg>\n",
              "      </button>\n",
              "      \n",
              "  <style>\n",
              "    .colab-df-container {\n",
              "      display:flex;\n",
              "      flex-wrap:wrap;\n",
              "      gap: 12px;\n",
              "    }\n",
              "\n",
              "    .colab-df-convert {\n",
              "      background-color: #E8F0FE;\n",
              "      border: none;\n",
              "      border-radius: 50%;\n",
              "      cursor: pointer;\n",
              "      display: none;\n",
              "      fill: #1967D2;\n",
              "      height: 32px;\n",
              "      padding: 0 0 0 0;\n",
              "      width: 32px;\n",
              "    }\n",
              "\n",
              "    .colab-df-convert:hover {\n",
              "      background-color: #E2EBFA;\n",
              "      box-shadow: 0px 1px 2px rgba(60, 64, 67, 0.3), 0px 1px 3px 1px rgba(60, 64, 67, 0.15);\n",
              "      fill: #174EA6;\n",
              "    }\n",
              "\n",
              "    [theme=dark] .colab-df-convert {\n",
              "      background-color: #3B4455;\n",
              "      fill: #D2E3FC;\n",
              "    }\n",
              "\n",
              "    [theme=dark] .colab-df-convert:hover {\n",
              "      background-color: #434B5C;\n",
              "      box-shadow: 0px 1px 3px 1px rgba(0, 0, 0, 0.15);\n",
              "      filter: drop-shadow(0px 1px 2px rgba(0, 0, 0, 0.3));\n",
              "      fill: #FFFFFF;\n",
              "    }\n",
              "  </style>\n",
              "\n",
              "      <script>\n",
              "        const buttonEl =\n",
              "          document.querySelector('#df-b6050058-7058-4f08-9ac8-dd2b725760e8 button.colab-df-convert');\n",
              "        buttonEl.style.display =\n",
              "          google.colab.kernel.accessAllowed ? 'block' : 'none';\n",
              "\n",
              "        async function convertToInteractive(key) {\n",
              "          const element = document.querySelector('#df-b6050058-7058-4f08-9ac8-dd2b725760e8');\n",
              "          const dataTable =\n",
              "            await google.colab.kernel.invokeFunction('convertToInteractive',\n",
              "                                                     [key], {});\n",
              "          if (!dataTable) return;\n",
              "\n",
              "          const docLinkHtml = 'Like what you see? Visit the ' +\n",
              "            '<a target=\"_blank\" href=https://colab.research.google.com/notebooks/data_table.ipynb>data table notebook</a>'\n",
              "            + ' to learn more about interactive tables.';\n",
              "          element.innerHTML = '';\n",
              "          dataTable['output_type'] = 'display_data';\n",
              "          await google.colab.output.renderOutput(dataTable, element);\n",
              "          const docLink = document.createElement('div');\n",
              "          docLink.innerHTML = docLinkHtml;\n",
              "          element.appendChild(docLink);\n",
              "        }\n",
              "      </script>\n",
              "    </div>\n",
              "  </div>\n",
              "  "
            ]
          },
          "metadata": {},
          "execution_count": 22
        }
      ],
      "source": [
        "df_train1.tail()"
      ]
    },
    {
      "cell_type": "code",
      "source": [
        "df_train1['lang_codes'].unique()"
      ],
      "metadata": {
        "colab": {
          "base_uri": "https://localhost:8080/"
        },
        "id": "dLZJtaCluYWd",
        "outputId": "ef4a8a31-8d4f-4d4c-97e2-4daa113d94ef"
      },
      "id": "dLZJtaCluYWd",
      "execution_count": 23,
      "outputs": [
        {
          "output_type": "execute_result",
          "data": {
            "text/plain": [
              "array(['9', '1', '3', '8', '6', '2', '10', '5', '7', '4', '0'],\n",
              "      dtype=object)"
            ]
          },
          "metadata": {},
          "execution_count": 23
        }
      ]
    },
    {
      "cell_type": "markdown",
      "source": [
        "## Split the data into training datset and Validation dataset"
      ],
      "metadata": {
        "id": "KxoD8uryhUd4"
      },
      "id": "KxoD8uryhUd4"
    },
    {
      "cell_type": "code",
      "execution_count": 25,
      "id": "bd5654fc",
      "metadata": {
        "id": "bd5654fc"
      },
      "outputs": [],
      "source": [
        "X_train, X_test, y_train, y_test = train_test_split(X, y, test_size=0.2, random_state=42)"
      ]
    },
    {
      "cell_type": "markdown",
      "source": [
        "# Model creation"
      ],
      "metadata": {
        "id": "QhTZhVuShfos"
      },
      "id": "QhTZhVuShfos"
    },
    {
      "cell_type": "markdown",
      "source": [
        "# Model No1 - Naive Bayes"
      ],
      "metadata": {
        "id": "ppNl6aHYhnBQ"
      },
      "id": "ppNl6aHYhnBQ"
    },
    {
      "cell_type": "code",
      "execution_count": 26,
      "id": "870f883c",
      "metadata": {
        "id": "870f883c"
      },
      "outputs": [],
      "source": [
        "MNB = MultinomialNB().fit(X_train,y_train)"
      ]
    },
    {
      "cell_type": "code",
      "execution_count": 27,
      "id": "7a6f7f8e",
      "metadata": {
        "id": "7a6f7f8e"
      },
      "outputs": [],
      "source": [
        "y_pred = MNB.predict(X_test)"
      ]
    },
    {
      "cell_type": "markdown",
      "source": [
        "## Evaluate Model No1"
      ],
      "metadata": {
        "id": "N-1v2G4Bhrw5"
      },
      "id": "N-1v2G4Bhrw5"
    },
    {
      "cell_type": "code",
      "execution_count": 28,
      "id": "2dce095c",
      "metadata": {
        "id": "2dce095c"
      },
      "outputs": [],
      "source": [
        "score_MNB = accuracy_score(y_test,y_pred)"
      ]
    },
    {
      "cell_type": "code",
      "execution_count": 29,
      "id": "356b1f19",
      "metadata": {
        "colab": {
          "base_uri": "https://localhost:8080/"
        },
        "id": "356b1f19",
        "outputId": "d00e9cea-a2f2-472d-e6b3-0ed984e7b498"
      },
      "outputs": [
        {
          "output_type": "execute_result",
          "data": {
            "text/plain": [
              "0.9963898916967509"
            ]
          },
          "metadata": {},
          "execution_count": 29
        }
      ],
      "source": [
        "score_MNB"
      ]
    },
    {
      "cell_type": "code",
      "source": [
        "cr = classification_report(y_test, y_pred)"
      ],
      "metadata": {
        "id": "u1auHo2x2Nv1"
      },
      "id": "u1auHo2x2Nv1",
      "execution_count": 47,
      "outputs": []
    },
    {
      "cell_type": "code",
      "source": [
        "print(cr)"
      ],
      "metadata": {
        "colab": {
          "base_uri": "https://localhost:8080/"
        },
        "id": "7ujytwsC3YQm",
        "outputId": "2a1c745f-c3f6-4618-c8ab-d01a829d65ae"
      },
      "id": "7ujytwsC3YQm",
      "execution_count": 48,
      "outputs": [
        {
          "output_type": "stream",
          "name": "stdout",
          "text": [
            "              precision    recall  f1-score   support\n",
            "\n",
            "           0       1.00      1.00      1.00        83\n",
            "           1       1.00      1.00      1.00        75\n",
            "           2       1.00      0.96      0.98        76\n",
            "           3       1.00      1.00      1.00        72\n",
            "           4       1.00      1.00      1.00        77\n",
            "           5       1.00      1.00      1.00        70\n",
            "           6       1.00      1.00      1.00        81\n",
            "           7       1.00      1.00      1.00        79\n",
            "           8       1.00      1.00      1.00        72\n",
            "           9       0.99      1.00      0.99        75\n",
            "          10       0.97      1.00      0.99        71\n",
            "\n",
            "    accuracy                           1.00       831\n",
            "   macro avg       1.00      1.00      1.00       831\n",
            "weighted avg       1.00      1.00      1.00       831\n",
            "\n"
          ]
        }
      ]
    },
    {
      "cell_type": "markdown",
      "source": [
        "# Model No2 - Linear regression"
      ],
      "metadata": {
        "id": "HPl-VhUMhzuf"
      },
      "id": "HPl-VhUMhzuf"
    },
    {
      "cell_type": "code",
      "execution_count": 30,
      "id": "b66a7c82",
      "metadata": {
        "id": "b66a7c82"
      },
      "outputs": [],
      "source": [
        "lr = LinearRegression() "
      ]
    },
    {
      "cell_type": "code",
      "execution_count": 31,
      "id": "d70c0a69",
      "metadata": {
        "id": "d70c0a69"
      },
      "outputs": [],
      "source": [
        "# train data and predict using linear regression model\n",
        "lr.fit(X_train, y_train)\n",
        "pred = lr.predict(X_test)"
      ]
    },
    {
      "cell_type": "markdown",
      "source": [
        "## Evaluate Model No2"
      ],
      "metadata": {
        "id": "aEjDNkz6h7AU"
      },
      "id": "aEjDNkz6h7AU"
    },
    {
      "cell_type": "code",
      "execution_count": 32,
      "id": "05f572c9",
      "metadata": {
        "id": "05f572c9"
      },
      "outputs": [],
      "source": [
        "score_lr = accuracy_score(y_test,y_pred)"
      ]
    },
    {
      "cell_type": "code",
      "source": [
        "score_lr"
      ],
      "metadata": {
        "colab": {
          "base_uri": "https://localhost:8080/"
        },
        "id": "gtsSWMuTvHMV",
        "outputId": "ba5cd4ee-a15a-4927-912a-5afb5fae539e"
      },
      "id": "gtsSWMuTvHMV",
      "execution_count": 33,
      "outputs": [
        {
          "output_type": "execute_result",
          "data": {
            "text/plain": [
              "0.9963898916967509"
            ]
          },
          "metadata": {},
          "execution_count": 33
        }
      ]
    },
    {
      "cell_type": "markdown",
      "source": [
        "# Preparing for Submission"
      ],
      "metadata": {
        "id": "FG61SLSuiAlo"
      },
      "id": "FG61SLSuiAlo"
    },
    {
      "cell_type": "code",
      "execution_count": 34,
      "id": "8167430e",
      "metadata": {
        "id": "8167430e"
      },
      "outputs": [],
      "source": [
        "df_test1 = df_test"
      ]
    },
    {
      "cell_type": "code",
      "execution_count": 83,
      "id": "a80149e1",
      "metadata": {
        "colab": {
          "base_uri": "https://localhost:8080/",
          "height": 424
        },
        "id": "a80149e1",
        "outputId": "4973ca75-6e03-4c7a-dfa7-d692d85937a2"
      },
      "outputs": [
        {
          "output_type": "execute_result",
          "data": {
            "text/plain": [
              "      index                                               text\n",
              "0         1  Mmasepala, fa maemo a a kgethegileng a letlele...\n",
              "1         2  Uzakwaziswa ngokufaneleko nakungafuneka eminye...\n",
              "2         3         Tshivhumbeo tshi fana na ngano dza vhathu.\n",
              "3         4  Kube inja nelikati betingevakala kutsi titsini...\n",
              "4         5                      Winste op buitelandse valuta.\n",
              "...     ...                                                ...\n",
              "5677   5678                   You mark your ballot in private.\n",
              "5678   5679  Ge o ka kgetha ka bowena go se šomiše Mofani k...\n",
              "5679   5680  E Ka kopo etsa kgetho ya hao ka hloko, hobane ...\n",
              "5680   5681  TB ke bokudi ba PMB, mme Morero o tla lefella ...\n",
              "5681   5682              Vakatjhela iwebhusayidi yethu ku-www.\n",
              "\n",
              "[5682 rows x 2 columns]"
            ],
            "text/html": [
              "\n",
              "  <div id=\"df-2966bced-7100-40a7-ba06-a65e3c9bd985\">\n",
              "    <div class=\"colab-df-container\">\n",
              "      <div>\n",
              "<style scoped>\n",
              "    .dataframe tbody tr th:only-of-type {\n",
              "        vertical-align: middle;\n",
              "    }\n",
              "\n",
              "    .dataframe tbody tr th {\n",
              "        vertical-align: top;\n",
              "    }\n",
              "\n",
              "    .dataframe thead th {\n",
              "        text-align: right;\n",
              "    }\n",
              "</style>\n",
              "<table border=\"1\" class=\"dataframe\">\n",
              "  <thead>\n",
              "    <tr style=\"text-align: right;\">\n",
              "      <th></th>\n",
              "      <th>index</th>\n",
              "      <th>text</th>\n",
              "    </tr>\n",
              "  </thead>\n",
              "  <tbody>\n",
              "    <tr>\n",
              "      <th>0</th>\n",
              "      <td>1</td>\n",
              "      <td>Mmasepala, fa maemo a a kgethegileng a letlele...</td>\n",
              "    </tr>\n",
              "    <tr>\n",
              "      <th>1</th>\n",
              "      <td>2</td>\n",
              "      <td>Uzakwaziswa ngokufaneleko nakungafuneka eminye...</td>\n",
              "    </tr>\n",
              "    <tr>\n",
              "      <th>2</th>\n",
              "      <td>3</td>\n",
              "      <td>Tshivhumbeo tshi fana na ngano dza vhathu.</td>\n",
              "    </tr>\n",
              "    <tr>\n",
              "      <th>3</th>\n",
              "      <td>4</td>\n",
              "      <td>Kube inja nelikati betingevakala kutsi titsini...</td>\n",
              "    </tr>\n",
              "    <tr>\n",
              "      <th>4</th>\n",
              "      <td>5</td>\n",
              "      <td>Winste op buitelandse valuta.</td>\n",
              "    </tr>\n",
              "    <tr>\n",
              "      <th>...</th>\n",
              "      <td>...</td>\n",
              "      <td>...</td>\n",
              "    </tr>\n",
              "    <tr>\n",
              "      <th>5677</th>\n",
              "      <td>5678</td>\n",
              "      <td>You mark your ballot in private.</td>\n",
              "    </tr>\n",
              "    <tr>\n",
              "      <th>5678</th>\n",
              "      <td>5679</td>\n",
              "      <td>Ge o ka kgetha ka bowena go se šomiše Mofani k...</td>\n",
              "    </tr>\n",
              "    <tr>\n",
              "      <th>5679</th>\n",
              "      <td>5680</td>\n",
              "      <td>E Ka kopo etsa kgetho ya hao ka hloko, hobane ...</td>\n",
              "    </tr>\n",
              "    <tr>\n",
              "      <th>5680</th>\n",
              "      <td>5681</td>\n",
              "      <td>TB ke bokudi ba PMB, mme Morero o tla lefella ...</td>\n",
              "    </tr>\n",
              "    <tr>\n",
              "      <th>5681</th>\n",
              "      <td>5682</td>\n",
              "      <td>Vakatjhela iwebhusayidi yethu ku-www.</td>\n",
              "    </tr>\n",
              "  </tbody>\n",
              "</table>\n",
              "<p>5682 rows × 2 columns</p>\n",
              "</div>\n",
              "      <button class=\"colab-df-convert\" onclick=\"convertToInteractive('df-2966bced-7100-40a7-ba06-a65e3c9bd985')\"\n",
              "              title=\"Convert this dataframe to an interactive table.\"\n",
              "              style=\"display:none;\">\n",
              "        \n",
              "  <svg xmlns=\"http://www.w3.org/2000/svg\" height=\"24px\"viewBox=\"0 0 24 24\"\n",
              "       width=\"24px\">\n",
              "    <path d=\"M0 0h24v24H0V0z\" fill=\"none\"/>\n",
              "    <path d=\"M18.56 5.44l.94 2.06.94-2.06 2.06-.94-2.06-.94-.94-2.06-.94 2.06-2.06.94zm-11 1L8.5 8.5l.94-2.06 2.06-.94-2.06-.94L8.5 2.5l-.94 2.06-2.06.94zm10 10l.94 2.06.94-2.06 2.06-.94-2.06-.94-.94-2.06-.94 2.06-2.06.94z\"/><path d=\"M17.41 7.96l-1.37-1.37c-.4-.4-.92-.59-1.43-.59-.52 0-1.04.2-1.43.59L10.3 9.45l-7.72 7.72c-.78.78-.78 2.05 0 2.83L4 21.41c.39.39.9.59 1.41.59.51 0 1.02-.2 1.41-.59l7.78-7.78 2.81-2.81c.8-.78.8-2.07 0-2.86zM5.41 20L4 18.59l7.72-7.72 1.47 1.35L5.41 20z\"/>\n",
              "  </svg>\n",
              "      </button>\n",
              "      \n",
              "  <style>\n",
              "    .colab-df-container {\n",
              "      display:flex;\n",
              "      flex-wrap:wrap;\n",
              "      gap: 12px;\n",
              "    }\n",
              "\n",
              "    .colab-df-convert {\n",
              "      background-color: #E8F0FE;\n",
              "      border: none;\n",
              "      border-radius: 50%;\n",
              "      cursor: pointer;\n",
              "      display: none;\n",
              "      fill: #1967D2;\n",
              "      height: 32px;\n",
              "      padding: 0 0 0 0;\n",
              "      width: 32px;\n",
              "    }\n",
              "\n",
              "    .colab-df-convert:hover {\n",
              "      background-color: #E2EBFA;\n",
              "      box-shadow: 0px 1px 2px rgba(60, 64, 67, 0.3), 0px 1px 3px 1px rgba(60, 64, 67, 0.15);\n",
              "      fill: #174EA6;\n",
              "    }\n",
              "\n",
              "    [theme=dark] .colab-df-convert {\n",
              "      background-color: #3B4455;\n",
              "      fill: #D2E3FC;\n",
              "    }\n",
              "\n",
              "    [theme=dark] .colab-df-convert:hover {\n",
              "      background-color: #434B5C;\n",
              "      box-shadow: 0px 1px 3px 1px rgba(0, 0, 0, 0.15);\n",
              "      filter: drop-shadow(0px 1px 2px rgba(0, 0, 0, 0.3));\n",
              "      fill: #FFFFFF;\n",
              "    }\n",
              "  </style>\n",
              "\n",
              "      <script>\n",
              "        const buttonEl =\n",
              "          document.querySelector('#df-2966bced-7100-40a7-ba06-a65e3c9bd985 button.colab-df-convert');\n",
              "        buttonEl.style.display =\n",
              "          google.colab.kernel.accessAllowed ? 'block' : 'none';\n",
              "\n",
              "        async function convertToInteractive(key) {\n",
              "          const element = document.querySelector('#df-2966bced-7100-40a7-ba06-a65e3c9bd985');\n",
              "          const dataTable =\n",
              "            await google.colab.kernel.invokeFunction('convertToInteractive',\n",
              "                                                     [key], {});\n",
              "          if (!dataTable) return;\n",
              "\n",
              "          const docLinkHtml = 'Like what you see? Visit the ' +\n",
              "            '<a target=\"_blank\" href=https://colab.research.google.com/notebooks/data_table.ipynb>data table notebook</a>'\n",
              "            + ' to learn more about interactive tables.';\n",
              "          element.innerHTML = '';\n",
              "          dataTable['output_type'] = 'display_data';\n",
              "          await google.colab.output.renderOutput(dataTable, element);\n",
              "          const docLink = document.createElement('div');\n",
              "          docLink.innerHTML = docLinkHtml;\n",
              "          element.appendChild(docLink);\n",
              "        }\n",
              "      </script>\n",
              "    </div>\n",
              "  </div>\n",
              "  "
            ]
          },
          "metadata": {},
          "execution_count": 83
        }
      ],
      "source": [
        "df_test1"
      ]
    },
    {
      "cell_type": "markdown",
      "source": [
        "# Save Model"
      ],
      "metadata": {
        "id": "LomB1ZqGiHbZ"
      },
      "id": "LomB1ZqGiHbZ"
    },
    {
      "cell_type": "code",
      "source": [
        "import joblib\n",
        "joblib.dump(MNB, \"sa_language_identifier.sav\")"
      ],
      "metadata": {
        "colab": {
          "base_uri": "https://localhost:8080/"
        },
        "id": "d8nuoMa2HqIy",
        "outputId": "dba2b82d-1fa3-4f65-9138-ef33e4dad218"
      },
      "id": "d8nuoMa2HqIy",
      "execution_count": 71,
      "outputs": [
        {
          "output_type": "execute_result",
          "data": {
            "text/plain": [
              "['sa_language_identifier.sav']"
            ]
          },
          "metadata": {},
          "execution_count": 71
        }
      ]
    },
    {
      "cell_type": "markdown",
      "source": [
        "# Load Model"
      ],
      "metadata": {
        "id": "0U7VKHLDiM41"
      },
      "id": "0U7VKHLDiM41"
    },
    {
      "cell_type": "code",
      "source": [
        "model = joblib.load('sa_language_identifier.sav')"
      ],
      "metadata": {
        "id": "6DxmKrEcIMfV"
      },
      "id": "6DxmKrEcIMfV",
      "execution_count": 77,
      "outputs": []
    },
    {
      "cell_type": "markdown",
      "source": [
        "# Clean the test data and reverse the label"
      ],
      "metadata": {
        "id": "WdD9J0vbiSdv"
      },
      "id": "WdD9J0vbiSdv"
    },
    {
      "cell_type": "code",
      "source": [
        "def test_model(sentence):\n",
        "  lang = {\n",
        "  'afr': 0,\n",
        "  'eng': 1,\n",
        "  'nbl': 2,\n",
        "  'nso': 3,\n",
        "  'sot': 4,\n",
        "  'ssw': 5, \n",
        "  'tsn': 6,\n",
        "  'tso': 7,\n",
        "  'ven': 8,\n",
        "  'xho': 9,\n",
        "  'zul': 10   \n",
        "  }\n",
        "\n",
        "  text = re.sub(\"^[a-zA-Z]\",' ', str(sentence))\n",
        "  text = text.lower()\n",
        "  text = text.split()\n",
        "  text = [ps.stem(word) for word in text if word not in set(stopwords.words())]\n",
        "  text = ' '.join(text)\n",
        "\n",
        "  text = cv.transform([text]).toarray()\n",
        "  pred = model.predict(text)[0]\n",
        "\n",
        "  keys = list(lang)\n",
        "  values = list(lang.values())\n",
        "  position = values.index(pred)\n",
        "  pred = keys[position]\n",
        "  #print(pred)\n",
        "  return pred\n",
        "\n"
      ],
      "metadata": {
        "id": "fHqE71zpJuBy"
      },
      "id": "fHqE71zpJuBy",
      "execution_count": 105,
      "outputs": []
    },
    {
      "cell_type": "code",
      "source": [
        "test_model('Kube inja nelikati betingevakala kutsi titsini..')"
      ],
      "metadata": {
        "colab": {
          "base_uri": "https://localhost:8080/",
          "height": 35
        },
        "id": "t_BTE6ayMRWk",
        "outputId": "f0dc4699-8de5-462f-a6fb-db09e10e40f0"
      },
      "id": "t_BTE6ayMRWk",
      "execution_count": 106,
      "outputs": [
        {
          "output_type": "execute_result",
          "data": {
            "text/plain": [
              "'ssw'"
            ],
            "application/vnd.google.colaboratory.intrinsic+json": {
              "type": "string"
            }
          },
          "metadata": {},
          "execution_count": 106
        }
      ]
    },
    {
      "cell_type": "markdown",
      "source": [
        "# Kaggle Submission"
      ],
      "metadata": {
        "id": "MYQeAVEhihoh"
      },
      "id": "MYQeAVEhihoh"
    },
    {
      "cell_type": "code",
      "source": [
        "df_test['lang_id'] = df_test['text'].apply(test_model)"
      ],
      "metadata": {
        "id": "7QpZ4lsTRC-D"
      },
      "id": "7QpZ4lsTRC-D",
      "execution_count": 107,
      "outputs": []
    },
    {
      "cell_type": "code",
      "source": [
        "df_test['lang_id'].head()"
      ],
      "metadata": {
        "colab": {
          "base_uri": "https://localhost:8080/"
        },
        "id": "-4_7ipejVA2D",
        "outputId": "f43f49ec-b35b-4a3c-be83-3ac9a89a1bfa"
      },
      "id": "-4_7ipejVA2D",
      "execution_count": 108,
      "outputs": [
        {
          "output_type": "execute_result",
          "data": {
            "text/plain": [
              "0    tsn\n",
              "1    nbl\n",
              "2    ven\n",
              "3    ssw\n",
              "4    afr\n",
              "Name: lang_id, dtype: object"
            ]
          },
          "metadata": {},
          "execution_count": 108
        }
      ]
    },
    {
      "cell_type": "code",
      "source": [
        "submission = df_test[['index', 'lang_id']]"
      ],
      "metadata": {
        "id": "4MIQGeSLbh8O"
      },
      "id": "4MIQGeSLbh8O",
      "execution_count": 110,
      "outputs": []
    },
    {
      "cell_type": "code",
      "source": [
        "submission.to_csv('Nobuntu_submission_A.csv', index=False)"
      ],
      "metadata": {
        "id": "L2YUdAaZcNE4"
      },
      "id": "L2YUdAaZcNE4",
      "execution_count": 112,
      "outputs": []
    },
    {
      "cell_type": "code",
      "source": [
        "submission.head()"
      ],
      "metadata": {
        "id": "k4vcs6vdb-rX",
        "outputId": "1f649919-4d4a-4861-e2a2-36d9126af77f",
        "colab": {
          "base_uri": "https://localhost:8080/",
          "height": 206
        }
      },
      "id": "k4vcs6vdb-rX",
      "execution_count": 113,
      "outputs": [
        {
          "output_type": "execute_result",
          "data": {
            "text/plain": [
              "   index lang_id\n",
              "0      1     tsn\n",
              "1      2     nbl\n",
              "2      3     ven\n",
              "3      4     ssw\n",
              "4      5     afr"
            ],
            "text/html": [
              "\n",
              "  <div id=\"df-161b5364-ba32-4f9c-92b4-8685e6a57084\">\n",
              "    <div class=\"colab-df-container\">\n",
              "      <div>\n",
              "<style scoped>\n",
              "    .dataframe tbody tr th:only-of-type {\n",
              "        vertical-align: middle;\n",
              "    }\n",
              "\n",
              "    .dataframe tbody tr th {\n",
              "        vertical-align: top;\n",
              "    }\n",
              "\n",
              "    .dataframe thead th {\n",
              "        text-align: right;\n",
              "    }\n",
              "</style>\n",
              "<table border=\"1\" class=\"dataframe\">\n",
              "  <thead>\n",
              "    <tr style=\"text-align: right;\">\n",
              "      <th></th>\n",
              "      <th>index</th>\n",
              "      <th>lang_id</th>\n",
              "    </tr>\n",
              "  </thead>\n",
              "  <tbody>\n",
              "    <tr>\n",
              "      <th>0</th>\n",
              "      <td>1</td>\n",
              "      <td>tsn</td>\n",
              "    </tr>\n",
              "    <tr>\n",
              "      <th>1</th>\n",
              "      <td>2</td>\n",
              "      <td>nbl</td>\n",
              "    </tr>\n",
              "    <tr>\n",
              "      <th>2</th>\n",
              "      <td>3</td>\n",
              "      <td>ven</td>\n",
              "    </tr>\n",
              "    <tr>\n",
              "      <th>3</th>\n",
              "      <td>4</td>\n",
              "      <td>ssw</td>\n",
              "    </tr>\n",
              "    <tr>\n",
              "      <th>4</th>\n",
              "      <td>5</td>\n",
              "      <td>afr</td>\n",
              "    </tr>\n",
              "  </tbody>\n",
              "</table>\n",
              "</div>\n",
              "      <button class=\"colab-df-convert\" onclick=\"convertToInteractive('df-161b5364-ba32-4f9c-92b4-8685e6a57084')\"\n",
              "              title=\"Convert this dataframe to an interactive table.\"\n",
              "              style=\"display:none;\">\n",
              "        \n",
              "  <svg xmlns=\"http://www.w3.org/2000/svg\" height=\"24px\"viewBox=\"0 0 24 24\"\n",
              "       width=\"24px\">\n",
              "    <path d=\"M0 0h24v24H0V0z\" fill=\"none\"/>\n",
              "    <path d=\"M18.56 5.44l.94 2.06.94-2.06 2.06-.94-2.06-.94-.94-2.06-.94 2.06-2.06.94zm-11 1L8.5 8.5l.94-2.06 2.06-.94-2.06-.94L8.5 2.5l-.94 2.06-2.06.94zm10 10l.94 2.06.94-2.06 2.06-.94-2.06-.94-.94-2.06-.94 2.06-2.06.94z\"/><path d=\"M17.41 7.96l-1.37-1.37c-.4-.4-.92-.59-1.43-.59-.52 0-1.04.2-1.43.59L10.3 9.45l-7.72 7.72c-.78.78-.78 2.05 0 2.83L4 21.41c.39.39.9.59 1.41.59.51 0 1.02-.2 1.41-.59l7.78-7.78 2.81-2.81c.8-.78.8-2.07 0-2.86zM5.41 20L4 18.59l7.72-7.72 1.47 1.35L5.41 20z\"/>\n",
              "  </svg>\n",
              "      </button>\n",
              "      \n",
              "  <style>\n",
              "    .colab-df-container {\n",
              "      display:flex;\n",
              "      flex-wrap:wrap;\n",
              "      gap: 12px;\n",
              "    }\n",
              "\n",
              "    .colab-df-convert {\n",
              "      background-color: #E8F0FE;\n",
              "      border: none;\n",
              "      border-radius: 50%;\n",
              "      cursor: pointer;\n",
              "      display: none;\n",
              "      fill: #1967D2;\n",
              "      height: 32px;\n",
              "      padding: 0 0 0 0;\n",
              "      width: 32px;\n",
              "    }\n",
              "\n",
              "    .colab-df-convert:hover {\n",
              "      background-color: #E2EBFA;\n",
              "      box-shadow: 0px 1px 2px rgba(60, 64, 67, 0.3), 0px 1px 3px 1px rgba(60, 64, 67, 0.15);\n",
              "      fill: #174EA6;\n",
              "    }\n",
              "\n",
              "    [theme=dark] .colab-df-convert {\n",
              "      background-color: #3B4455;\n",
              "      fill: #D2E3FC;\n",
              "    }\n",
              "\n",
              "    [theme=dark] .colab-df-convert:hover {\n",
              "      background-color: #434B5C;\n",
              "      box-shadow: 0px 1px 3px 1px rgba(0, 0, 0, 0.15);\n",
              "      filter: drop-shadow(0px 1px 2px rgba(0, 0, 0, 0.3));\n",
              "      fill: #FFFFFF;\n",
              "    }\n",
              "  </style>\n",
              "\n",
              "      <script>\n",
              "        const buttonEl =\n",
              "          document.querySelector('#df-161b5364-ba32-4f9c-92b4-8685e6a57084 button.colab-df-convert');\n",
              "        buttonEl.style.display =\n",
              "          google.colab.kernel.accessAllowed ? 'block' : 'none';\n",
              "\n",
              "        async function convertToInteractive(key) {\n",
              "          const element = document.querySelector('#df-161b5364-ba32-4f9c-92b4-8685e6a57084');\n",
              "          const dataTable =\n",
              "            await google.colab.kernel.invokeFunction('convertToInteractive',\n",
              "                                                     [key], {});\n",
              "          if (!dataTable) return;\n",
              "\n",
              "          const docLinkHtml = 'Like what you see? Visit the ' +\n",
              "            '<a target=\"_blank\" href=https://colab.research.google.com/notebooks/data_table.ipynb>data table notebook</a>'\n",
              "            + ' to learn more about interactive tables.';\n",
              "          element.innerHTML = '';\n",
              "          dataTable['output_type'] = 'display_data';\n",
              "          await google.colab.output.renderOutput(dataTable, element);\n",
              "          const docLink = document.createElement('div');\n",
              "          docLink.innerHTML = docLinkHtml;\n",
              "          element.appendChild(docLink);\n",
              "        }\n",
              "      </script>\n",
              "    </div>\n",
              "  </div>\n",
              "  "
            ]
          },
          "metadata": {},
          "execution_count": 113
        }
      ]
    },
    {
      "cell_type": "code",
      "execution_count": null,
      "id": "cc4a16f5",
      "metadata": {
        "id": "cc4a16f5"
      },
      "outputs": [],
      "source": [
        ""
      ]
    }
  ],
  "metadata": {
    "kernelspec": {
      "display_name": "Python 3 (ipykernel)",
      "language": "python",
      "name": "python3"
    },
    "language_info": {
      "codemirror_mode": {
        "name": "ipython",
        "version": 3
      },
      "file_extension": ".py",
      "mimetype": "text/x-python",
      "name": "python",
      "nbconvert_exporter": "python",
      "pygments_lexer": "ipython3",
      "version": "3.9.7"
    },
    "colab": {
      "name": "South African Language Identification.ipynb",
      "provenance": [],
      "collapsed_sections": []
    }
  },
  "nbformat": 4,
  "nbformat_minor": 5
}